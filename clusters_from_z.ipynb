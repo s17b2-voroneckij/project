{
 "cells": [
  {
   "cell_type": "code",
   "execution_count": 1,
   "metadata": {},
   "outputs": [],
   "source": [
    "from main import *"
   ]
  },
  {
   "cell_type": "code",
   "execution_count": 2,
   "metadata": {},
   "outputs": [
    {
     "name": "stdout",
     "output_type": "stream",
     "text": [
      "The history saving thread hit an unexpected error (OperationalError('database is locked')).History will not be written to the database.\n"
     ]
    }
   ],
   "source": [
    "LSA_DICT = LSADict(open('ruscorpora_upos_skipgram_300_5_2018.vec'))"
   ]
  },
  {
   "cell_type": "code",
   "execution_count": 3,
   "metadata": {},
   "outputs": [],
   "source": [
    "def num_clusters(LSADict, filenames, z=3, dim=5, k=5, h=0.5):\n",
    "    clusters, cluster, g = make_paths(LSADict, filenames, z, dim, k, h)\n",
    "    return len(set(cluster)), cluster.count(0) / len(cluster)"
   ]
  },
  {
   "cell_type": "code",
   "execution_count": 4,
   "metadata": {},
   "outputs": [],
   "source": [
    "def draw(LSADict, filenames, dim, k, h, zz):\n",
    "    nc = []\n",
    "    trash = []\n",
    "    for z in zz:\n",
    "        num, tr = num_clusters(LSADict, filenames, z, dim, k, h)\n",
    "        nc.append(num)\n",
    "        trash.append(tr)\n",
    "    plt.plot(zz, nc)\n",
    "    return trash"
   ]
  },
  {
   "cell_type": "code",
   "execution_count": 12,
   "metadata": {},
   "outputs": [
    {
     "name": "stderr",
     "output_type": "stream",
     "text": [
      "/home/dima/Yandex.Disk/Wishart/main.py:94: RuntimeWarning: divide by zero encountered in double_scalars\n",
      "  prob[vec[1]] = K / n / volume(v_sorted[K][0])\n",
      "/home/dima/Yandex.Disk/Wishart/main.py:117: RuntimeWarning: invalid value encountered in double_scalars\n",
      "  self.is_meaningful = (self.max_prob - self.min_prob) >= H\n"
     ]
    },
    {
     "data": {
      "text/plain": [
       "[0.7456279809220986,\n",
       " 0.947452229299363,\n",
       " 0.9617224880382775,\n",
       " 0.9760383386581469,\n",
       " 0.9632,\n",
       " 0.969551282051282,\n",
       " 0.9598070739549839,\n",
       " 0.0,\n",
       " 0.0]"
      ]
     },
     "execution_count": 12,
     "metadata": {},
     "output_type": "execute_result"
    },
    {
     "data": {
      "image/png": "[encoded data removed]",
      "text/plain": [
       "<Figure size 432x288 with 1 Axes>"
      ]
     },
     "metadata": {
      "needs_background": "light"
     },
     "output_type": "display_data"
    }
   ],
   "source": [
    "draw(LSA_DICT, ['1.1.1.txt'], 10, 5, 0.7, [1, 2, 3, 4, 5, 6, 8, 10, 12])"
   ]
  },
  {
   "cell_type": "code",
   "execution_count": 13,
   "metadata": {},
   "outputs": [
    {
     "name": "stderr",
     "output_type": "stream",
     "text": [
      "/home/dima/Yandex.Disk/Wishart/main.py:94: RuntimeWarning: divide by zero encountered in double_scalars\n",
      "  prob[vec[1]] = K / n / volume(v_sorted[K][0])\n",
      "/home/dima/Yandex.Disk/Wishart/main.py:117: RuntimeWarning: invalid value encountered in double_scalars\n",
      "  self.is_meaningful = (self.max_prob - self.min_prob) >= H\n"
     ]
    },
    {
     "data": {
      "text/plain": [
       "[0.7456279809220986,\n",
       " 0.947452229299363,\n",
       " 0.9617224880382775,\n",
       " 0.9760383386581469,\n",
       " 0.9632,\n",
       " 0.969551282051282,\n",
       " 0.9565916398713826,\n",
       " 0.0,\n",
       " 0.0]"
      ]
     },
     "execution_count": 13,
     "metadata": {},
     "output_type": "execute_result"
    },
    {
     "data": {
      "image/png": "[encoded data removed]",
      "text/plain": [
       "<Figure size 432x288 with 1 Axes>"
      ]
     },
     "metadata": {
      "needs_background": "light"
     },
     "output_type": "display_data"
    }
   ],
   "source": [
    "draw(LSA_DICT, ['1.1.1.txt'], 10, 5, 0.4, [1, 2, 3, 4, 5, 6, 8, 10, 12])"
   ]
  },
  {
   "cell_type": "code",
   "execution_count": 14,
   "metadata": {},
   "outputs": [
    {
     "name": "stderr",
     "output_type": "stream",
     "text": [
      "/home/dima/Yandex.Disk/Wishart/main.py:94: RuntimeWarning: divide by zero encountered in double_scalars\n",
      "  prob[vec[1]] = K / n / volume(v_sorted[K][0])\n",
      "/home/dima/Yandex.Disk/Wishart/main.py:117: RuntimeWarning: invalid value encountered in double_scalars\n",
      "  self.is_meaningful = (self.max_prob - self.min_prob) >= H\n"
     ]
    },
    {
     "data": {
      "text/plain": [
       "[0.7694753577106518,\n",
       " 0.9697452229299363,\n",
       " 0.9744816586921851,\n",
       " 0.0,\n",
       " 0.0,\n",
       " 0.9871794871794872,\n",
       " 0.9790996784565916,\n",
       " 0.0,\n",
       " 0.0]"
      ]
     },
     "execution_count": 14,
     "metadata": {},
     "output_type": "execute_result"
    },
    {
     "data": {
      "image/png": "[encoded data removed]",
      "text/plain": [
       "<Figure size 432x288 with 1 Axes>"
      ]
     },
     "metadata": {
      "needs_background": "light"
     },
     "output_type": "display_data"
    }
   ],
   "source": [
    "draw(LSA_DICT, ['1.1.1.txt'], 10, 7, 0.4, [1, 2, 3, 4, 5, 6, 8, 10, 12])"
   ]
  },
  {
   "cell_type": "code",
   "execution_count": null,
   "metadata": {},
   "outputs": [],
   "source": []
  },
  {
   "cell_type": "code",
   "execution_count": null,
   "metadata": {},
   "outputs": [],
   "source": []
  },
  {
   "cell_type": "code",
   "execution_count": null,
   "metadata": {},
   "outputs": [],
   "source": []
  }
 ],
 "metadata": {
  "kernelspec": {
   "display_name": "Python 3",
   "language": "python",
   "name": "python3"
  },
  "language_info": {
   "codemirror_mode": {
    "name": "ipython",
    "version": 3
   },
   "file_extension": ".py",
   "mimetype": "text/x-python",
   "name": "python",
   "nbconvert_exporter": "python",
   "pygments_lexer": "ipython3",
   "version": "3.7.1"
  }
 },
 "nbformat": 4,
 "nbformat_minor": 2
}
